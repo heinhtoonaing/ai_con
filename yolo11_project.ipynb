{
  "nbformat": 4,
  "nbformat_minor": 0,
  "metadata": {
    "colab": {
      "provenance": [],
      "gpuType": "T4"
    },
    "kernelspec": {
      "name": "python3",
      "display_name": "Python 3"
    },
    "language_info": {
      "name": "python"
    },
    "accelerator": "GPU"
  },
  "cells": [
    {
      "cell_type": "code",
      "execution_count": null,
      "metadata": {
        "colab": {
          "base_uri": "https://localhost:8080/"
        },
        "id": "DnqrhrOsydyZ",
        "outputId": "7668df70-cbba-4133-b237-0c3a24cc9f48"
      },
      "outputs": [
        {
          "output_type": "stream",
          "name": "stdout",
          "text": [
            "Mounted at /content/drive\n"
          ]
        }
      ],
      "source": [
        "from google.colab import drive\n",
        "drive.mount('/content/drive')"
      ]
    },
    {
      "cell_type": "code",
      "source": [
        "%ls"
      ],
      "metadata": {
        "colab": {
          "base_uri": "https://localhost:8080/"
        },
        "id": "X1YDMz4Q3PLk",
        "outputId": "6b66aeb1-5835-4a7c-aaa7-716545e5bf82"
      },
      "execution_count": null,
      "outputs": [
        {
          "output_type": "stream",
          "name": "stdout",
          "text": [
            "\u001b[0m\u001b[01;34mdrive\u001b[0m/  \u001b[01;34mruns\u001b[0m/  yolo11n.pt  zidane.jpg\n"
          ]
        }
      ]
    },
    {
      "cell_type": "code",
      "source": [
        "%pip install ultralytics\n",
        "import ultralytics\n",
        "ultralytics.checks()"
      ],
      "metadata": {
        "colab": {
          "base_uri": "https://localhost:8080/"
        },
        "id": "UdVbbsap1CKV",
        "outputId": "c01478fe-d7cb-47f6-c4d7-6e375726990c"
      },
      "execution_count": null,
      "outputs": [
        {
          "output_type": "stream",
          "name": "stdout",
          "text": [
            "Ultralytics 8.3.81 🚀 Python-3.11.11 torch-2.5.1+cu124 CUDA:0 (Tesla T4, 15095MiB)\n",
            "Setup complete ✅ (2 CPUs, 12.7 GB RAM, 35.6/112.6 GB disk)\n"
          ]
        }
      ]
    },
    {
      "cell_type": "code",
      "source": [
        "!yolo predict model= yolo11n.pt source ='https://ultralytics.com/images/zidane.jpg'"
      ],
      "metadata": {
        "colab": {
          "base_uri": "https://localhost:8080/"
        },
        "id": "-MwS9kHR19pe",
        "outputId": "b9b698fc-b076-4e20-bee1-30116ec1ea1d"
      },
      "execution_count": null,
      "outputs": [
        {
          "output_type": "stream",
          "name": "stdout",
          "text": [
            "Downloading https://github.com/ultralytics/assets/releases/download/v8.3.0/yolo11n.pt to 'yolo11n.pt'...\n",
            "100% 5.35M/5.35M [00:00<00:00, 317MB/s]\n",
            "Ultralytics 8.3.81 🚀 Python-3.11.11 torch-2.5.1+cu124 CUDA:0 (Tesla T4, 15095MiB)\n",
            "YOLO11n summary (fused): 100 layers, 2,616,248 parameters, 0 gradients, 6.5 GFLOPs\n",
            "\n",
            "Downloading https://ultralytics.com/images/zidane.jpg to 'zidane.jpg'...\n",
            "100% 49.2k/49.2k [00:00<00:00, 24.3MB/s]\n",
            "image 1/1 /content/zidane.jpg: 384x640 2 persons, 1 tie, 44.3ms\n",
            "Speed: 13.9ms preprocess, 44.3ms inference, 322.8ms postprocess per image at shape (1, 3, 384, 640)\n",
            "Results saved to \u001b[1mruns/detect/predict\u001b[0m\n",
            "💡 Learn more at https://docs.ultralytics.com/modes/predict\n"
          ]
        }
      ]
    },
    {
      "cell_type": "code",
      "source": [
        "!yolo train model=/content/drive/MyDrive/project/yolo11s.pt data=/content/drive/MyDrive/project/dataset.yaml epochs=20 batch=10 imgsz=640  project=/content/drive/MyDrive/project/model"
      ],
      "metadata": {
        "id": "uPD8XCQ36HFd",
        "colab": {
          "base_uri": "https://localhost:8080/",
          "height": 0
        },
        "outputId": "491a7b8e-bc44-43c7-d719-574348963444"
      },
      "execution_count": 26,
      "outputs": [
        {
          "output_type": "stream",
          "name": "stdout",
          "text": [
            "Ultralytics 8.3.81 🚀 Python-3.11.11 torch-2.5.1+cu124 CUDA:0 (Tesla T4, 15095MiB)\n",
            "\u001b[34m\u001b[1mengine/trainer: \u001b[0mtask=detect, mode=train, model=/content/drive/MyDrive/project/yolo11s.pt, data=/content/drive/MyDrive/project/dataset.yaml, epochs=20, time=None, patience=100, batch=10, imgsz=640, save=True, save_period=-1, cache=False, device=None, workers=8, project=/content/drive/MyDrive/project/model, name=train5, exist_ok=False, pretrained=True, optimizer=auto, verbose=True, seed=0, deterministic=True, single_cls=False, rect=False, cos_lr=False, close_mosaic=10, resume=False, amp=True, fraction=1.0, profile=False, freeze=None, multi_scale=False, overlap_mask=True, mask_ratio=4, dropout=0.0, val=True, split=val, save_json=False, save_hybrid=False, conf=None, iou=0.7, max_det=300, half=False, dnn=False, plots=True, source=None, vid_stride=1, stream_buffer=False, visualize=False, augment=False, agnostic_nms=False, classes=None, retina_masks=False, embed=None, show=False, save_frames=False, save_txt=False, save_conf=False, save_crop=False, show_labels=True, show_conf=True, show_boxes=True, line_width=None, format=torchscript, keras=False, optimize=False, int8=False, dynamic=False, simplify=True, opset=None, workspace=None, nms=False, lr0=0.01, lrf=0.01, momentum=0.937, weight_decay=0.0005, warmup_epochs=3.0, warmup_momentum=0.8, warmup_bias_lr=0.1, box=7.5, cls=0.5, dfl=1.5, pose=12.0, kobj=1.0, nbs=64, hsv_h=0.015, hsv_s=0.7, hsv_v=0.4, degrees=0.0, translate=0.1, scale=0.5, shear=0.0, perspective=0.0, flipud=0.0, fliplr=0.5, bgr=0.0, mosaic=1.0, mixup=0.0, copy_paste=0.0, copy_paste_mode=flip, auto_augment=randaugment, erasing=0.4, crop_fraction=1.0, cfg=None, tracker=botsort.yaml, save_dir=/content/drive/MyDrive/project/model/train5\n",
            "WARNING: All log messages before absl::InitializeLog() is called are written to STDERR\n",
            "E0000 00:00:1740823403.226720   26403 cuda_dnn.cc:8310] Unable to register cuDNN factory: Attempting to register factory for plugin cuDNN when one has already been registered\n",
            "E0000 00:00:1740823403.233290   26403 cuda_blas.cc:1418] Unable to register cuBLAS factory: Attempting to register factory for plugin cuBLAS when one has already been registered\n",
            "Overriding model.yaml nc=80 with nc=3\n",
            "\n",
            "                   from  n    params  module                                       arguments                     \n",
            "  0                  -1  1       928  ultralytics.nn.modules.conv.Conv             [3, 32, 3, 2]                 \n",
            "  1                  -1  1     18560  ultralytics.nn.modules.conv.Conv             [32, 64, 3, 2]                \n",
            "  2                  -1  1     26080  ultralytics.nn.modules.block.C3k2            [64, 128, 1, False, 0.25]     \n",
            "  3                  -1  1    147712  ultralytics.nn.modules.conv.Conv             [128, 128, 3, 2]              \n",
            "  4                  -1  1    103360  ultralytics.nn.modules.block.C3k2            [128, 256, 1, False, 0.25]    \n",
            "  5                  -1  1    590336  ultralytics.nn.modules.conv.Conv             [256, 256, 3, 2]              \n",
            "  6                  -1  1    346112  ultralytics.nn.modules.block.C3k2            [256, 256, 1, True]           \n",
            "  7                  -1  1   1180672  ultralytics.nn.modules.conv.Conv             [256, 512, 3, 2]              \n",
            "  8                  -1  1   1380352  ultralytics.nn.modules.block.C3k2            [512, 512, 1, True]           \n",
            "  9                  -1  1    656896  ultralytics.nn.modules.block.SPPF            [512, 512, 5]                 \n",
            " 10                  -1  1    990976  ultralytics.nn.modules.block.C2PSA           [512, 512, 1]                 \n",
            " 11                  -1  1         0  torch.nn.modules.upsampling.Upsample         [None, 2, 'nearest']          \n",
            " 12             [-1, 6]  1         0  ultralytics.nn.modules.conv.Concat           [1]                           \n",
            " 13                  -1  1    443776  ultralytics.nn.modules.block.C3k2            [768, 256, 1, False]          \n",
            " 14                  -1  1         0  torch.nn.modules.upsampling.Upsample         [None, 2, 'nearest']          \n",
            " 15             [-1, 4]  1         0  ultralytics.nn.modules.conv.Concat           [1]                           \n",
            " 16                  -1  1    127680  ultralytics.nn.modules.block.C3k2            [512, 128, 1, False]          \n",
            " 17                  -1  1    147712  ultralytics.nn.modules.conv.Conv             [128, 128, 3, 2]              \n",
            " 18            [-1, 13]  1         0  ultralytics.nn.modules.conv.Concat           [1]                           \n",
            " 19                  -1  1    345472  ultralytics.nn.modules.block.C3k2            [384, 256, 1, False]          \n",
            " 20                  -1  1    590336  ultralytics.nn.modules.conv.Conv             [256, 256, 3, 2]              \n",
            " 21            [-1, 10]  1         0  ultralytics.nn.modules.conv.Concat           [1]                           \n",
            " 22                  -1  1   1511424  ultralytics.nn.modules.block.C3k2            [768, 512, 1, True]           \n",
            " 23        [16, 19, 22]  1    820569  ultralytics.nn.modules.head.Detect           [3, [128, 256, 512]]          \n",
            "YOLO11s summary: 181 layers, 9,428,953 parameters, 9,428,937 gradients, 21.6 GFLOPs\n",
            "\n",
            "Transferred 493/499 items from pretrained weights\n",
            "\u001b[34m\u001b[1mTensorBoard: \u001b[0mStart with 'tensorboard --logdir /content/drive/MyDrive/project/model/train5', view at http://localhost:6006/\n",
            "Freezing layer 'model.23.dfl.conv.weight'\n",
            "\u001b[34m\u001b[1mAMP: \u001b[0mrunning Automatic Mixed Precision (AMP) checks...\n",
            "\u001b[34m\u001b[1mAMP: \u001b[0mchecks passed ✅\n",
            "\u001b[34m\u001b[1mtrain: \u001b[0mScanning /content/drive/MyDrive/project/dataset_yolov10/train/labels.cache... 138 images, 138 backgrounds, 0 corrupt: 100% 138/138 [00:00<?, ?it/s]\n",
            "\u001b[34m\u001b[1mtrain: \u001b[0mWARNING ⚠️ /content/drive/MyDrive/project/dataset_yolov10/train/images/27.jpg: corrupt JPEG restored and saved\n",
            "\u001b[34m\u001b[1mtrain: \u001b[0mWARNING ⚠️ /content/drive/MyDrive/project/dataset_yolov10/train/images/28.jpg: corrupt JPEG restored and saved\n",
            "\u001b[34m\u001b[1mtrain: \u001b[0mWARNING ⚠️ /content/drive/MyDrive/project/dataset_yolov10/train/images/30.jpg: corrupt JPEG restored and saved\n",
            "\u001b[34m\u001b[1mtrain: \u001b[0mWARNING ⚠️ /content/drive/MyDrive/project/dataset_yolov10/train/images/31.jpg: corrupt JPEG restored and saved\n",
            "\u001b[34m\u001b[1mtrain: \u001b[0mWARNING ⚠️ /content/drive/MyDrive/project/dataset_yolov10/train/images/34.jpg: corrupt JPEG restored and saved\n",
            "\u001b[34m\u001b[1mtrain: \u001b[0mWARNING ⚠️ /content/drive/MyDrive/project/dataset_yolov10/train/images/36.jpg: corrupt JPEG restored and saved\n",
            "\u001b[34m\u001b[1mtrain: \u001b[0mWARNING ⚠️ /content/drive/MyDrive/project/dataset_yolov10/train/images/38.jpg: corrupt JPEG restored and saved\n",
            "\u001b[34m\u001b[1mtrain: \u001b[0mWARNING ⚠️ /content/drive/MyDrive/project/dataset_yolov10/train/images/39.jpg: corrupt JPEG restored and saved\n",
            "\u001b[34m\u001b[1mtrain: \u001b[0mWARNING ⚠️ /content/drive/MyDrive/project/dataset_yolov10/train/images/41.jpg: corrupt JPEG restored and saved\n",
            "\u001b[34m\u001b[1mtrain: \u001b[0mWARNING ⚠️ /content/drive/MyDrive/project/dataset_yolov10/train/images/43.jpg: corrupt JPEG restored and saved\n",
            "\u001b[34m\u001b[1mtrain: \u001b[0mWARNING ⚠️ /content/drive/MyDrive/project/dataset_yolov10/train/images/45.jpg: corrupt JPEG restored and saved\n",
            "\u001b[34m\u001b[1mtrain: \u001b[0mWARNING ⚠️ /content/drive/MyDrive/project/dataset_yolov10/train/images/46.jpg: corrupt JPEG restored and saved\n",
            "\u001b[34m\u001b[1mtrain: \u001b[0mWARNING ⚠️ /content/drive/MyDrive/project/dataset_yolov10/train/images/47.jpg: corrupt JPEG restored and saved\n",
            "\u001b[34m\u001b[1mtrain: \u001b[0mWARNING ⚠️ /content/drive/MyDrive/project/dataset_yolov10/train/images/49 - Copy.jpg: corrupt JPEG restored and saved\n",
            "\u001b[34m\u001b[1mtrain: \u001b[0mWARNING ⚠️ /content/drive/MyDrive/project/dataset_yolov10/train/images/49.jpg: corrupt JPEG restored and saved\n",
            "\u001b[34m\u001b[1mtrain: \u001b[0mWARNING ⚠️ /content/drive/MyDrive/project/dataset_yolov10/train/images/60.jpg: corrupt JPEG restored and saved\n",
            "\u001b[34m\u001b[1mtrain: \u001b[0mWARNING ⚠️ /content/drive/MyDrive/project/dataset_yolov10/train/images/61.jpg: corrupt JPEG restored and saved\n",
            "\u001b[34m\u001b[1mtrain: \u001b[0mWARNING ⚠️ /content/drive/MyDrive/project/dataset_yolov10/train/images/68.jpg: corrupt JPEG restored and saved\n",
            "\u001b[34m\u001b[1mtrain: \u001b[0mWARNING ⚠️ /content/drive/MyDrive/project/dataset_yolov10/train/images/69.jpg: corrupt JPEG restored and saved\n",
            "\u001b[34m\u001b[1mtrain: \u001b[0mWARNING ⚠️ /content/drive/MyDrive/project/dataset_yolov10/train/images/70.jpg: corrupt JPEG restored and saved\n",
            "\u001b[34m\u001b[1mtrain: \u001b[0mWARNING ⚠️ /content/drive/MyDrive/project/dataset_yolov10/train/images/72.jpg: corrupt JPEG restored and saved\n",
            "\u001b[34m\u001b[1mtrain: \u001b[0mWARNING ⚠️ /content/drive/MyDrive/project/dataset_yolov10/train/images/73.jpg: corrupt JPEG restored and saved\n",
            "\u001b[34m\u001b[1mtrain: \u001b[0mWARNING ⚠️ /content/drive/MyDrive/project/dataset_yolov10/train/images/74.jpg: corrupt JPEG restored and saved\n",
            "\u001b[34m\u001b[1mtrain: \u001b[0mWARNING ⚠️ /content/drive/MyDrive/project/dataset_yolov10/train/images/91.jpg: corrupt JPEG restored and saved\n",
            "\u001b[34m\u001b[1mtrain: \u001b[0mWARNING ⚠️ /content/drive/MyDrive/project/dataset_yolov10/train/images/92.jpg: corrupt JPEG restored and saved\n",
            "\u001b[34m\u001b[1mtrain: \u001b[0mWARNING ⚠️ /content/drive/MyDrive/project/dataset_yolov10/train/images/93.jpg: corrupt JPEG restored and saved\n",
            "\u001b[34m\u001b[1mtrain: \u001b[0mWARNING ⚠️ /content/drive/MyDrive/project/dataset_yolov10/train/images/95.jpg: corrupt JPEG restored and saved\n",
            "\u001b[34m\u001b[1mtrain: \u001b[0mWARNING ⚠️ /content/drive/MyDrive/project/dataset_yolov10/train/images/96.jpg: corrupt JPEG restored and saved\n",
            "WARNING ⚠️ No labels found in /content/drive/MyDrive/project/dataset_yolov10/train/labels.cache, training may not work correctly. See https://docs.ultralytics.com/datasets for dataset formatting guidance.\n",
            "/usr/local/lib/python3.11/dist-packages/albumentations/__init__.py:28: UserWarning: A new version of Albumentations is available: '2.0.5' (you have '2.0.4'). Upgrade using: pip install -U albumentations. To disable automatic update checks, set the environment variable NO_ALBUMENTATIONS_UPDATE to 1.\n",
            "  check_for_updates()\n",
            "\u001b[34m\u001b[1malbumentations: \u001b[0mBlur(p=0.01, blur_limit=(3, 7)), MedianBlur(p=0.01, blur_limit=(3, 7)), ToGray(p=0.01, num_output_channels=3, method='weighted_average'), CLAHE(p=0.01, clip_limit=(1.0, 4.0), tile_grid_size=(8, 8))\n",
            "\u001b[34m\u001b[1mval: \u001b[0mScanning /content/drive/MyDrive/project/dataset_yolov10/val/labels... 0 images, 9 backgrounds, 0 corrupt: 100% 9/9 [00:00<00:00, 34.82it/s]\n",
            "\u001b[34m\u001b[1mval: \u001b[0mWARNING ⚠️ No labels found in /content/drive/MyDrive/project/dataset_yolov10/val/labels.cache. See https://docs.ultralytics.com/datasets for dataset formatting guidance.\n",
            "\u001b[34m\u001b[1mval: \u001b[0mNew cache created: /content/drive/MyDrive/project/dataset_yolov10/val/labels.cache\n",
            "WARNING ⚠️ No labels found in /content/drive/MyDrive/project/dataset_yolov10/val/labels.cache, training may not work correctly. See https://docs.ultralytics.com/datasets for dataset formatting guidance.\n",
            "Corrupt JPEG data: 2549 extraneous bytes before marker 0xd0\n",
            "Corrupt JPEG data: 2549 extraneous bytes before marker 0xd0\n",
            "Corrupt JPEG data: 2608 extraneous bytes before marker 0xd0\n",
            "Corrupt JPEG data: 2608 extraneous bytes before marker 0xd0\n",
            "Corrupt JPEG data: 2549 extraneous bytes before marker 0xd0\n",
            "Corrupt JPEG data: 2549 extraneous bytes before marker 0xd0\n",
            "Corrupt JPEG data: 2608 extraneous bytes before marker 0xd0\n",
            "Corrupt JPEG data: 2608 extraneous bytes before marker 0xd0\n",
            "Plotting labels to /content/drive/MyDrive/project/model/train5/labels.jpg... \n",
            "zero-size array to reduction operation maximum which has no identity\n",
            "\u001b[34m\u001b[1moptimizer:\u001b[0m 'optimizer=auto' found, ignoring 'lr0=0.01' and 'momentum=0.937' and determining best 'optimizer', 'lr0' and 'momentum' automatically... \n",
            "\u001b[34m\u001b[1moptimizer:\u001b[0m AdamW(lr=0.001429, momentum=0.9) with parameter groups 81 weight(decay=0.0), 88 weight(decay=0.00046875), 87 bias(decay=0.0)\n",
            "\u001b[34m\u001b[1mTensorBoard: \u001b[0mmodel graph visualization added ✅\n",
            "Image sizes 640 train, 640 val\n",
            "Using 2 dataloader workers\n",
            "Logging results to \u001b[1m/content/drive/MyDrive/project/model/train5\u001b[0m\n",
            "Starting training for 20 epochs...\n",
            "\n",
            "      Epoch    GPU_mem   box_loss   cls_loss   dfl_loss  Instances       Size\n",
            "       1/20      2.54G          0      259.7          0          0        640:   7% 1/14 [00:00<00:08,  1.45it/s]Corrupt JPEG data: 2681 extraneous bytes before marker 0xd0\n",
            "       1/20      2.54G          0      250.1          0          0        640:  57% 8/14 [00:02<00:01,  3.17it/s]Corrupt JPEG data: 2549 extraneous bytes before marker 0xd0\n",
            "Corrupt JPEG data: 2607 extraneous bytes before marker 0xd0\n",
            "Corrupt JPEG data: 2681 extraneous bytes before marker 0xd0\n",
            "       1/20      2.54G          0      248.8          0          0        640:  71% 10/14 [00:03<00:01,  2.34it/s]Corrupt JPEG data: 2558 extraneous bytes before marker 0xd0\n",
            "       1/20      2.54G          0      249.1          0          0        640:  71% 10/14 [00:04<00:01,  2.34it/s]Corrupt JPEG data: 2599 extraneous bytes before marker 0xd0\n",
            "       1/20      2.56G          0      246.2          0          0        640: 100% 14/14 [00:06<00:00,  2.26it/s]\n",
            "                 Class     Images  Instances      Box(P          R      mAP50  mAP50-95):   0% 0/1 [00:00<?, ?it/s]Corrupt JPEG data: 2549 extraneous bytes before marker 0xd0\n",
            "Corrupt JPEG data: 2608 extraneous bytes before marker 0xd0\n",
            "Corrupt JPEG data: 2681 extraneous bytes before marker 0xd0\n",
            "                 Class     Images  Instances      Box(P          R      mAP50  mAP50-95): 100% 1/1 [00:00<00:00,  1.79it/s]\n",
            "/usr/local/lib/python3.11/dist-packages/ultralytics/utils/metrics.py:619: RuntimeWarning: Mean of empty slice.\n",
            "  i = smooth(f1_curve.mean(0), 0.1).argmax()  # max F1 index\n",
            "/usr/local/lib/python3.11/dist-packages/numpy/core/_methods.py:121: RuntimeWarning: invalid value encountered in divide\n",
            "  ret = um.true_divide(\n",
            "                   all          9          0          0          0          0          0\n",
            "WARNING ⚠️ no labels found in detect set, can not compute metrics without labels\n",
            "Corrupt JPEG data: 2549 extraneous bytes before marker 0xd0\n",
            "\n",
            "      Epoch    GPU_mem   box_loss   cls_loss   dfl_loss  Instances       Size\n",
            "       2/20      2.53G          0      176.6          0          0        640: 100% 14/14 [00:05<00:00,  2.70it/s]\n",
            "                 Class     Images  Instances      Box(P          R      mAP50  mAP50-95):   0% 0/1 [00:00<?, ?it/s]Corrupt JPEG data: 2549 extraneous bytes before marker 0xd0\n",
            "Corrupt JPEG data: 2608 extraneous bytes before marker 0xd0\n",
            "Corrupt JPEG data: 2599 extraneous bytes before marker 0xd0\n",
            "                 Class     Images  Instances      Box(P          R      mAP50  mAP50-95): 100% 1/1 [00:00<00:00,  4.62it/s]\n",
            "/usr/local/lib/python3.11/dist-packages/ultralytics/utils/metrics.py:619: RuntimeWarning: Mean of empty slice.\n",
            "  i = smooth(f1_curve.mean(0), 0.1).argmax()  # max F1 index\n",
            "/usr/local/lib/python3.11/dist-packages/numpy/core/_methods.py:121: RuntimeWarning: invalid value encountered in divide\n",
            "  ret = um.true_divide(\n",
            "                   all          9          0          0          0          0          0\n",
            "WARNING ⚠️ no labels found in detect set, can not compute metrics without labels\n",
            "\n",
            "      Epoch    GPU_mem   box_loss   cls_loss   dfl_loss  Instances       Size\n",
            "       3/20      2.56G          0      85.18          0          0        640:  50% 7/14 [00:01<00:01,  4.72it/s]Corrupt JPEG data: 2558 extraneous bytes before marker 0xd0\n",
            "       3/20      2.56G          0      77.89          0          0        640:  79% 11/14 [00:02<00:00,  4.11it/s]Corrupt JPEG data: 2681 extraneous bytes before marker 0xd0\n",
            "       3/20      2.56G          0      74.31          0          0        640:  93% 13/14 [00:03<00:00,  4.13it/s]Corrupt JPEG data: 2681 extraneous bytes before marker 0xd0\n",
            "       3/20      2.56G          0       71.9          0          0        640: 100% 14/14 [00:03<00:00,  4.06it/s]\n",
            "                 Class     Images  Instances      Box(P          R      mAP50  mAP50-95):   0% 0/1 [00:00<?, ?it/s]Corrupt JPEG data: 2549 extraneous bytes before marker 0xd0\n",
            "Corrupt JPEG data: 2608 extraneous bytes before marker 0xd0\n",
            "                 Class     Images  Instances      Box(P          R      mAP50  mAP50-95): 100% 1/1 [00:00<00:00,  4.84it/s]\n",
            "/usr/local/lib/python3.11/dist-packages/ultralytics/utils/metrics.py:619: RuntimeWarning: Mean of empty slice.\n",
            "  i = smooth(f1_curve.mean(0), 0.1).argmax()  # max F1 index\n",
            "/usr/local/lib/python3.11/dist-packages/numpy/core/_methods.py:121: RuntimeWarning: invalid value encountered in divide\n",
            "  ret = um.true_divide(\n",
            "                   all          9          0          0          0          0          0\n",
            "WARNING ⚠️ no labels found in detect set, can not compute metrics without labels\n",
            "Corrupt JPEG data: 2607 extraneous bytes before marker 0xd0\n",
            "\n",
            "      Epoch    GPU_mem   box_loss   cls_loss   dfl_loss  Instances       Size\n",
            "       4/20      2.57G          0      49.71          0          0        640:   7% 1/14 [00:00<00:02,  5.04it/s]Corrupt JPEG data: 2599 extraneous bytes before marker 0xd0\n",
            "       4/20      2.57G          0      41.71          0          0        640:  43% 6/14 [00:01<00:02,  3.79it/s]Corrupt JPEG data: 2549 extraneous bytes before marker 0xd0\n",
            "       4/20      2.57G          0      34.96          0          0        640: 100% 14/14 [00:04<00:00,  2.93it/s]\n",
            "                 Class     Images  Instances      Box(P          R      mAP50  mAP50-95):   0% 0/1 [00:00<?, ?it/s]Corrupt JPEG data: 2549 extraneous bytes before marker 0xd0\n",
            "Corrupt JPEG data: 2608 extraneous bytes before marker 0xd0\n",
            "                 Class     Images  Instances      Box(P          R      mAP50  mAP50-95): 100% 1/1 [00:00<00:00,  2.54it/s]\n",
            "/usr/local/lib/python3.11/dist-packages/ultralytics/utils/metrics.py:619: RuntimeWarning: Mean of empty slice.\n",
            "  i = smooth(f1_curve.mean(0), 0.1).argmax()  # max F1 index\n",
            "/usr/local/lib/python3.11/dist-packages/numpy/core/_methods.py:121: RuntimeWarning: invalid value encountered in divide\n",
            "  ret = um.true_divide(\n",
            "                   all          9          0          0          0          0          0\n",
            "WARNING ⚠️ no labels found in detect set, can not compute metrics without labels\n",
            "Corrupt JPEG data: 2549 extraneous bytes before marker 0xd0\n",
            "\n",
            "      Epoch    GPU_mem   box_loss   cls_loss   dfl_loss  Instances       Size\n",
            "       5/20      2.57G          0      25.84          0          0        640:  14% 2/14 [00:00<00:03,  3.97it/s]Corrupt JPEG data: 2558 extraneous bytes before marker 0xd0\n",
            "       5/20      2.57G          0      24.58          0          0        640:  21% 3/14 [00:00<00:02,  4.22it/s]Corrupt JPEG data: 2607 extraneous bytes before marker 0xd0\n",
            "       5/20      2.57G          0      22.54          0          0        640:  50% 7/14 [00:01<00:01,  4.59it/s]Corrupt JPEG data: 2681 extraneous bytes before marker 0xd0\n",
            "       5/20      2.57G          0      21.58          0          0        640:  64% 9/14 [00:02<00:01,  3.63it/s]Corrupt JPEG data: 2599 extraneous bytes before marker 0xd0\n",
            "       5/20      2.57G          0      19.67          0          0        640: 100% 14/14 [00:03<00:00,  3.52it/s]\n",
            "                 Class     Images  Instances      Box(P          R      mAP50  mAP50-95):   0% 0/1 [00:00<?, ?it/s]Corrupt JPEG data: 2549 extraneous bytes before marker 0xd0\n",
            "Corrupt JPEG data: 2608 extraneous bytes before marker 0xd0\n",
            "                 Class     Images  Instances      Box(P          R      mAP50  mAP50-95): 100% 1/1 [00:00<00:00,  7.47it/s]\n",
            "/usr/local/lib/python3.11/dist-packages/ultralytics/utils/metrics.py:619: RuntimeWarning: Mean of empty slice.\n",
            "  i = smooth(f1_curve.mean(0), 0.1).argmax()  # max F1 index\n",
            "/usr/local/lib/python3.11/dist-packages/numpy/core/_methods.py:121: RuntimeWarning: invalid value encountered in divide\n",
            "  ret = um.true_divide(\n",
            "                   all          9          0          0          0          0          0\n",
            "WARNING ⚠️ no labels found in detect set, can not compute metrics without labels\n",
            "\n",
            "      Epoch    GPU_mem   box_loss   cls_loss   dfl_loss  Instances       Size\n",
            "       6/20      2.57G          0      14.65          0          0        640:  79% 11/14 [00:02<00:00,  4.04it/s]Corrupt JPEG data: 2681 extraneous bytes before marker 0xd0\n",
            "       6/20      2.57G          0      13.87          0          0        640: 100% 14/14 [00:03<00:00,  4.26it/s]\n",
            "                 Class     Images  Instances      Box(P          R      mAP50  mAP50-95):   0% 0/1 [00:00<?, ?it/s]Corrupt JPEG data: 2549 extraneous bytes before marker 0xd0\n",
            "Corrupt JPEG data: 2608 extraneous bytes before marker 0xd0\n",
            "                 Class     Images  Instances      Box(P          R      mAP50  mAP50-95): 100% 1/1 [00:00<00:00,  7.29it/s]\n",
            "/usr/local/lib/python3.11/dist-packages/ultralytics/utils/metrics.py:619: RuntimeWarning: Mean of empty slice.\n",
            "  i = smooth(f1_curve.mean(0), 0.1).argmax()  # max F1 index\n",
            "/usr/local/lib/python3.11/dist-packages/numpy/core/_methods.py:121: RuntimeWarning: invalid value encountered in divide\n",
            "  ret = um.true_divide(\n",
            "                   all          9          0          0          0          0          0\n",
            "WARNING ⚠️ no labels found in detect set, can not compute metrics without labels\n",
            "Corrupt JPEG data: 2681 extraneous bytes before marker 0xd0\n",
            "\n",
            "      Epoch    GPU_mem   box_loss   cls_loss   dfl_loss  Instances       Size\n",
            "       7/20      2.57G          0      11.02          0          0        640:  14% 2/14 [00:00<00:02,  5.66it/s]Corrupt JPEG data: 2681 extraneous bytes before marker 0xd0\n",
            "       7/20      2.57G          0      11.03          0          0        640:  29% 4/14 [00:00<00:02,  3.82it/s]Corrupt JPEG data: 2558 extraneous bytes before marker 0xd0\n",
            "       7/20      2.57G          0      8.957          0          0        640: 100% 14/14 [00:04<00:00,  3.15it/s]\n",
            "                 Class     Images  Instances      Box(P          R      mAP50  mAP50-95):   0% 0/1 [00:00<?, ?it/s]Corrupt JPEG data: 2549 extraneous bytes before marker 0xd0\n",
            "Corrupt JPEG data: 2608 extraneous bytes before marker 0xd0\n",
            "                 Class     Images  Instances      Box(P          R      mAP50  mAP50-95): 100% 1/1 [00:00<00:00,  5.06it/s]\n",
            "/usr/local/lib/python3.11/dist-packages/ultralytics/utils/metrics.py:619: RuntimeWarning: Mean of empty slice.\n",
            "  i = smooth(f1_curve.mean(0), 0.1).argmax()  # max F1 index\n",
            "/usr/local/lib/python3.11/dist-packages/numpy/core/_methods.py:121: RuntimeWarning: invalid value encountered in divide\n",
            "  ret = um.true_divide(\n",
            "                   all          9          0          0          0          0          0\n",
            "WARNING ⚠️ no labels found in detect set, can not compute metrics without labels\n",
            "\n",
            "      Epoch    GPU_mem   box_loss   cls_loss   dfl_loss  Instances       Size\n",
            "  0% 0/14 [00:00<?, ?it/s]Corrupt JPEG data: 2558 extraneous bytes before marker 0xd0\n",
            "       8/20      2.57G          0      7.265          0          0        640:   7% 1/14 [00:00<00:02,  4.85it/s]Corrupt JPEG data: 2549 extraneous bytes before marker 0xd0\n",
            "Corrupt JPEG data: 2607 extraneous bytes before marker 0xd0\n",
            "       8/20      2.57G          0      6.162          0          0        640:  64% 9/14 [00:02<00:01,  3.25it/s]Corrupt JPEG data: 2681 extraneous bytes before marker 0xd0\n",
            "       8/20      2.57G          0      6.042          0          0        640:  71% 10/14 [00:02<00:01,  3.04it/s]Corrupt JPEG data: 2599 extraneous bytes before marker 0xd0\n",
            "       8/20      2.57G          0      5.693          0          0        640: 100% 14/14 [00:03<00:00,  3.78it/s]\n",
            "                 Class     Images  Instances      Box(P          R      mAP50  mAP50-95):   0% 0/1 [00:00<?, ?it/s]Corrupt JPEG data: 2549 extraneous bytes before marker 0xd0\n",
            "                 Class     Images  Instances      Box(P          R      mAP50  mAP50-95): 100% 1/1 [00:00<00:00, 11.68it/s]\n",
            "Corrupt JPEG data: 2608 extraneous bytes before marker 0xd0\n",
            "Traceback (most recent call last):\n",
            "  File \"/usr/local/bin/yolo\", line 8, in <module>\n",
            "    sys.exit(entrypoint())\n",
            "             ^^^^^^^^^^^^\n",
            "  File \"/usr/local/lib/python3.11/dist-packages/ultralytics/cfg/__init__.py\", line 986, in entrypoint\n",
            "    getattr(model, mode)(**overrides)  # default args from model\n",
            "    ^^^^^^^^^^^^^^^^^^^^^^^^^^^^^^^^^\n",
            "  File \"/usr/local/lib/python3.11/dist-packages/ultralytics/engine/model.py\", line 810, in train\n",
            "    self.trainer.train()\n",
            "  File \"/usr/local/lib/python3.11/dist-packages/ultralytics/engine/trainer.py\", line 208, in train\n",
            "    self._do_train(world_size)\n",
            "  File \"/usr/local/lib/python3.11/dist-packages/ultralytics/engine/trainer.py\", line 433, in _do_train\n",
            "    self.metrics, self.fitness = self.validate()\n",
            "                                 ^^^^^^^^^^^^^^^\n",
            "  File \"/usr/local/lib/python3.11/dist-packages/ultralytics/engine/trainer.py\", line 611, in validate\n",
            "    metrics = self.validator(self)\n",
            "              ^^^^^^^^^^^^^^^^^^^^\n",
            "  File \"/usr/local/lib/python3.11/dist-packages/torch/utils/_contextlib.py\", line 116, in decorate_context\n",
            "    return func(*args, **kwargs)\n",
            "           ^^^^^^^^^^^^^^^^^^^^^\n",
            "  File \"/usr/local/lib/python3.11/dist-packages/ultralytics/engine/validator.py\", line 199, in __call__\n",
            "    stats = self.get_stats()\n",
            "            ^^^^^^^^^^^^^^^^\n",
            "  File \"/usr/local/lib/python3.11/dist-packages/ultralytics/models/yolo/detect/val.py\", line 185, in get_stats\n",
            "    stats = {k: torch.cat(v, 0).cpu().numpy() for k, v in self.stats.items()}  # to numpy\n",
            "            ^^^^^^^^^^^^^^^^^^^^^^^^^^^^^^^^^^^^^^^^^^^^^^^^^^^^^^^^^^^^^^^^^\n",
            "  File \"/usr/local/lib/python3.11/dist-packages/ultralytics/models/yolo/detect/val.py\", line 185, in <dictcomp>\n",
            "    stats = {k: torch.cat(v, 0).cpu().numpy() for k, v in self.stats.items()}  # to numpy\n",
            "                ^^^^^^^^^^^^^^^\n",
            "RuntimeError: torch.cat(): expected a non-empty list of Tensors\n"
          ]
        }
      ]
    },
    {
      "cell_type": "code",
      "source": [
        "\n",
        "import os\n",
        "\n",
        "labels_path = '/content/drive/MyDrive/project/dataset_yolov10/val/labels'\n",
        "\n",
        "empty_files = []\n",
        "\n",
        "for label_file in os.listdir(labels_path):\n",
        "    file_path = os.path.join(labels_path, label_file)\n",
        "    if os.stat(file_path).st_size == 0:\n",
        "        empty_files.append(label_file)\n",
        "\n",
        "if empty_files:\n",
        "    print(\"Empty label files:\", empty_files)\n",
        "else:\n",
        "    print(\"All label files contain data.\")\n"
      ],
      "metadata": {
        "colab": {
          "base_uri": "https://localhost:8080/",
          "height": 0
        },
        "id": "rsIXbJRPFxCE",
        "outputId": "2ad17708-1780-4876-8824-0b8fd1a8d6a7"
      },
      "execution_count": 22,
      "outputs": [
        {
          "output_type": "stream",
          "name": "stdout",
          "text": [
            "Empty label files: ['55.txt', 'download (5).txt', '48 - Copy.txt', '24.txt', '472110603_1138672184932797_6524233579489413477_n.txt', '472302371_1284070922631715_636593586118013093_n - Copy (2).txt', '472343620_1675835672974500_3288243605120047425_n.txt', '32.txt', '471944315_574186232053349_8906527404595083721_n.txt', '471943547_9772752459419564_1657289164789420785_n - Copy.txt', '471943066_609608695086230_4238328139528663543_n.txt', '40.txt', '42.txt', '13.txt', '471907011_895937592526867_949132572745282820_n.txt', '29.txt', '37.txt', '3.txt', '472302371_1284070922631715_636593586118013093_n - Copy.txt', '10.txt', '1.txt', '2.txt', '20.txt', '16.txt', 'download (6).txt', 'Green Energy Freedom.txt', '7.txt', '90.txt', 'download (1).txt', '66.txt', 'PTDC0036.txt', 'PTDC0050 - Copy.txt', '472662578_1495743101108708_8095843433836382482_n.txt', '472383541_2597755807085341_4231555537501944823_n.txt', '50 - Copy.txt']\n"
          ]
        }
      ]
    },
    {
      "cell_type": "code",
      "source": [
        "import os\n",
        "\n",
        "# Paths to dataset\n",
        "image_dir = \"/content/drive/MyDrive/project/dataset_yolov10/val/images\"\n",
        "label_dir = \"/content/drive/MyDrive/project/dataset_yolov10/val/labels\"\n",
        "\n",
        "# Get list of label files\n",
        "label_files = os.listdir(label_dir)\n",
        "\n",
        "# Filter out empty label files\n",
        "valid_images = []\n",
        "for label_file in label_files:\n",
        "    label_path = os.path.join(label_dir, label_file)\n",
        "\n",
        "    # Check if file is empty\n",
        "    if os.path.exists(label_path) and os.path.getsize(label_path) > 0:\n",
        "        # Add corresponding image to valid list\n",
        "        image_file = label_file.replace(\".txt\", \".jpg\")  # Adjust extension if needed\n",
        "        image_path = os.path.join(image_dir, image_file)\n",
        "        if os.path.exists(image_path):\n",
        "            valid_images.append(image_path)\n",
        "\n",
        "# Save valid images to a new dataset YAML\n",
        "dataset_yaml_path = \"/content/drive/MyDrive/project/dataset_filtered.yaml\"\n",
        "\n",
        "with open(dataset_yaml_path, \"w\") as f:\n",
        "    f.write(f\"train: /content/drive/MyDrive/project/dataset_yolov10/train/images\\n\")\n",
        "    f.write(f\"val: {dataset_yaml_path}\\n\")\n",
        "    f.write(\"names:\\n  0: 'class1'\\n  1: 'class2'\\n\")\n",
        "\n",
        "print(f\"Filtered dataset saved: {dataset_yaml_path}\")\n"
      ],
      "metadata": {
        "colab": {
          "base_uri": "https://localhost:8080/",
          "height": 0
        },
        "id": "KHZeRahOJepc",
        "outputId": "0e06650b-5ef6-4063-f1c6-19ac4c086bb0"
      },
      "execution_count": 23,
      "outputs": [
        {
          "output_type": "stream",
          "name": "stdout",
          "text": [
            "Filtered dataset saved: /content/drive/MyDrive/project/dataset_filtered.yaml\n"
          ]
        }
      ]
    },
    {
      "cell_type": "code",
      "source": [
        "import os\n",
        "import shutil\n",
        "\n",
        "images_path = '/content/drive/MyDrive/project/dataset_yolov10/val/images'\n",
        "labels_path = '/content/drive/MyDrive/project/dataset_yolov10/val/labels'\n",
        "\n",
        "empty_files =  ['55.txt', 'download (5).txt', '48 - Copy.txt', '24.txt', '472110603_1138672184932797_6524233579489413477_n.txt', '472302371_1284070922631715_636593586118013093_n - Copy (2).txt', '472343620_1675835672974500_3288243605120047425_n.txt', '32.txt', '471944315_574186232053349_8906527404595083721_n.txt', '471943547_9772752459419564_1657289164789420785_n - Copy.txt', '471943066_609608695086230_4238328139528663543_n.txt', '40.txt', '42.txt', '13.txt', '471907011_895937592526867_949132572745282820_n.txt', '29.txt', '37.txt', '3.txt', '472302371_1284070922631715_636593586118013093_n - Copy.txt', '10.txt', '1.txt', '2.txt', '20.txt', '16.txt', 'download (6).txt', 'Green Energy Freedom.txt', '7.txt', '90.txt', 'download (1).txt', '66.txt', 'PTDC0036.txt', 'PTDC0050 - Copy.txt', '472662578_1495743101108708_8095843433836382482_n.txt', '472383541_2597755807085341_4231555537501944823_n.txt', '50 - Copy.txt']\n",
        "\n",
        "for label_file in empty_files:\n",
        "    # Remove label file\n",
        "    label_path = os.path.join(labels_path, label_file)\n",
        "    if os.path.exists(label_path):\n",
        "        os.remove(label_path)\n",
        "\n",
        "    # Remove corresponding image\n",
        "    image_file = label_file.replace('.txt', '.jpg')  # Adjust extension if needed\n",
        "    image_path = os.path.join(images_path, image_file)\n",
        "    if os.path.exists(image_path):\n",
        "        os.remove(image_path)\n",
        "\n",
        "print(\"Clean-up complete!\")\n"
      ],
      "metadata": {
        "colab": {
          "base_uri": "https://localhost:8080/",
          "height": 0
        },
        "id": "Lia-4WmpJ-M9",
        "outputId": "4105ee68-b98b-4670-8fe8-b4b2e5ea6fae"
      },
      "execution_count": 25,
      "outputs": [
        {
          "output_type": "stream",
          "name": "stdout",
          "text": [
            "Clean-up complete!\n"
          ]
        }
      ]
    }
  ]
}